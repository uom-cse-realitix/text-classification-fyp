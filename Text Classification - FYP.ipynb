{
 "cells": [
  {
   "cell_type": "markdown",
   "metadata": {},
   "source": [
    "# Text Classification Engine for Sensor Fusion\n",
    "\n",
    "First, let us load and preprocess text transcriptions.\n",
    "\n",
    "**Note**: Running this python script require `nltk` libraries to be set up in prior. Therefore, please download the following dependencies by uncommenting the line `nltk.download()`.\n",
    "\n",
    "1. `perluniprops`\n",
    "2. `punkt`"
   ]
  },
  {
   "cell_type": "code",
   "execution_count": 122,
   "metadata": {},
   "outputs": [],
   "source": [
    "import pandas as pd\n",
    "import numpy as np\n",
    "import nltk\n",
    "from keras.wrappers.scikit_learn import KerasClassifier\n",
    "from sklearn.model_selection import RandomizedSearchCV\n",
    "# from sklearn.externals import joblib\n",
    "from keras.preprocessing.text import Tokenizer\n",
    "from sklearn.model_selection import train_test_split\n",
    "from nltk.tokenize import word_tokenize \n",
    "from sklearn.utils import shuffle\n",
    "from nltk.tokenize.treebank import TreebankWordDetokenizer as Detok\n",
    "from nltk.tokenize.treebank import TreebankWordDetokenizer\n",
    "from sklearn.naive_bayes import MultinomialNB\n",
    "from sklearn.pipeline import Pipeline\n",
    "from sklearn.feature_extraction.text import TfidfTransformer\n",
    "from sklearn.feature_extraction.text import CountVectorizer\n",
    "from sklearn.metrics import accuracy_score\n",
    "from sklearn.metrics import classification_report\n",
    "from sklearn.linear_model import SGDClassifier\n",
    "from keras.preprocessing.sequence import pad_sequences\n",
    "from keras.models import Sequential\n",
    "from keras.callbacks import ModelCheckpoint, EarlyStopping\n",
    "from keras.layers import *\n",
    "import matplotlib.pyplot as plt\n",
    "from keras.utils.np_utils import to_categorical\n",
    "from keras.regularizers import l2\n",
    "from keras.utils.vis_utils import plot_model\n",
    "from yellowbrick.classifier import ClassificationReport\n",
    "from keras.wrappers.scikit_learn import KerasClassifier\n",
    "from keras.models import load_model\n",
    "import os.path\n",
    "from imblearn.over_sampling import ADASYN, SMOTE, RandomOverSampler\n",
    "from imblearn.pipeline import make_pipeline\n",
    "from imblearn.keras import BalancedBatchGenerator\n",
    "from sklearn.metrics import confusion_matrix\n",
    "from sklearn.utils.multiclass import unique_labels\n",
    "from sklearn.utils import class_weight\n",
    "import tensorflow as tf"
   ]
  },
  {
   "cell_type": "markdown",
   "metadata": {},
   "source": [
    "Import the dataset and shuffle it."
   ]
  },
  {
   "cell_type": "code",
   "execution_count": 123,
   "metadata": {},
   "outputs": [
    {
     "name": "stdout",
     "output_type": "stream",
     "text": [
      "                                    sentence  operation\n",
      "525        Provide the details of this mouse          2\n",
      "550       What can you say about this laptop          2\n",
      "414     What are the properties of the chair          2\n",
      "653                          why didn't guns          3\n",
      "691                                    gimme          3\n",
      "548  Can I get information about the monitor          2\n",
      "71            What is the location of bottle          1\n",
      "355                    Describe mobile phone          2\n",
      "369           Give me the details about hand          2\n",
      "661                                this rule          3\n",
      "81            What are the locations of pens          1\n",
      "583  Give me the specification of the laptop          2\n",
      "198                 Find where the laptop is          1\n",
      "312                      Is there a pen here          1\n",
      "442         Explain the features of this cup          2\n",
      "199                   Find where the book is          1\n",
      "524        Provide the details of this chair          2\n",
      "441        Explain the features of this book          2\n",
      "538      Can I know more about the  keyboard          2\n",
      "557        What can you say about this chair          2\n",
      "148                         Color the bottle          1\n",
      "111                              Detect book          1\n",
      "54                     Where is the keyboard          1\n",
      "400         What are the features of the pen          2\n",
      "689     can we hide me the pain then finally          3\n",
      "555       What can you say about this bottle          2\n",
      "169                Show me where the pen are          1\n",
      "50                         Where is the hand          1\n",
      "358                            Describe hand          2\n",
      "260                 Where did I put my chair          1\n",
      "..                                       ...        ...\n",
      "139                      Highlight the chair          1\n",
      "439         Give an account of this keyboard          2\n",
      "43                Please locate the keyboard          1\n",
      "268                  Where did I keep my pen          1\n",
      "187                    Search for the laptop          1\n",
      "643              please look at the keyboard          3\n",
      "194                     Search for the chair          1\n",
      "657            over the past several decades          3\n",
      "500        I want the details of this bottle          2\n",
      "218               Find where the monitor are          1\n",
      "24                            Locate the cup          1\n",
      "331       Give me information about the book          2\n",
      "437            Give an account of this mouse          2\n",
      "533        Can I know more about the  bottle          2\n",
      "151                          Color the mouse          1\n",
      "133                       Highlight the book          1\n",
      "75           What is the location of monitor          1\n",
      "471         What is the brand of the monitor          2\n",
      "300             Help me find my mobile phone          1\n",
      "31                        Locate the monitor          1\n",
      "648                                     dude          3\n",
      "422       Give a detailed description of pen          2\n",
      "203                 Find where the bottle is          1\n",
      "134                        Highlight the cup          1\n",
      "397        What are the features of the book          2\n",
      "658                            dilute deadly          3\n",
      "570       What do you know about the monitor          2\n",
      "209                Find where the laptop are          1\n",
      "197                  Search for the keyboard          1\n",
      "672                         a further eighty          3\n",
      "\n",
      "[709 rows x 2 columns]\n"
     ]
    }
   ],
   "source": [
    "# nltk.download()\n",
    "filepath = 'data/fyp_dataset.txt'\n",
    "df = pd.read_csv(filepath, names=['sentence', 'operation'], sep=', ', engine='python')\n",
    "df = shuffle(df)\n",
    "sentences = df['sentence'].values\n",
    "y = df['operation'].values\n",
    "print(df)\n",
    "\n",
    "# df.to_csv(r'data/dataset.txt', sep=', ', index=False, header=False)"
   ]
  },
  {
   "cell_type": "markdown",
   "metadata": {},
   "source": [
    "Now, we need to **preprocess** the text utterences in the dataset that we possess. This includes:\n",
    "\n",
    "0. Shuffle the dataset: This is required as this is a manually created dataset according to predefined schema.\n",
    "1. Removing stopwords.\n",
    "2. Removing duplicates.\n",
    "3. Shuffling up data (jumbling up the order)\n",
    "\n",
    "## Removing Stopwords\n",
    "\n",
    "`NLTK`, or the Natural Language Toolkit, is a treasure trove of a library for text preprocessing. It’s one of my favorite Python libraries. `NLTK` has a list of stopwords stored in 16 different languages.\n",
    "\n",
    "However, we use a specific set of stopwords which is apt for our context.\n",
    "\n",
    "```python\n",
    "stopwords_list = [\"i\", \"me\", \"my\", \"myself\", \"we\", \"our\", \"ours\", \"ourselves\", \"you\", \"your\", \"yours\", \"yourself\", \"yourselves\", \"he\", \"him\", \"his\", \"himself\", \"she\", \"her\", \"hers\", \"herself\", \"it\", \"its\", \"itself\", \"they\", \"them\", \"their\", \"theirs\", \"themselves\", \"which\", \"who\", \"whom\", \"these\", \"those\", \"am\", \"is\", \"are\", \"was\", \"were\", \"be\", \"been\", \"being\", \"have\", \"has\", \"had\", \"having\", \"do\", \"does\", \"did\", \"doing\", \"a\", \"an\", \"the\", \"and\", \"but\", \"if\", \"or\", \"because\", \"as\", \"until\", \"while\", \"of\", \"at\", \"by\", \"for\", \"with\", \"against\", \"into\", \"through\", \"during\", \"before\", \"after\", \"above\", \"below\", \"to\", \"from\", \"up\", \"down\", \"in\", \"out\", \"on\", \"off\", \"over\", \"under\", \"again\", \"further\", \"then\", \"once\", \"here\", \"there\", \"when\", \"why\", \"how\", \"all\", \"any\", \"both\", \"each\", \"few\", \"more\", \"most\", \"other\", \"some\", \"such\", \"no\", \"nor\", \"not\", \"only\", \"own\", \"same\", \"so\", \"than\", \"too\", \"very\", \"s\", \"t\", \"don\", \"should\", \"now\"]\n",
    "```"
   ]
  },
  {
   "cell_type": "code",
   "execution_count": 124,
   "metadata": {},
   "outputs": [],
   "source": [
    "stopwords_list = [\"i\", \"me\", \"my\", \"myself\", \"we\", \"our\", \"ours\", \"ourselves\", \"you\", \"your\", \"yours\", \"yourself\", \"yourselves\", \"he\", \"him\", \"his\", \"himself\", \"she\", \"her\", \"hers\", \"herself\", \"it\", \"its\", \"itself\", \"they\", \"them\", \"their\", \"theirs\", \"themselves\", \"which\", \"who\", \"whom\", \"these\", \"those\", \"am\", \"is\", \"are\", \"was\", \"were\", \"be\", \"been\", \"being\", \"have\", \"has\", \"had\", \"having\", \"do\", \"does\", \"did\", \"doing\", \"a\", \"an\", \"the\", \"and\", \"but\", \"if\", \"or\", \"because\", \"as\", \"until\", \"while\", \"of\", \"at\", \"by\", \"for\", \"with\", \"against\", \"into\", \"through\", \"during\", \"before\", \"after\", \"above\", \"below\", \"to\", \"from\", \"up\", \"down\", \"in\", \"out\", \"on\", \"off\", \"over\", \"under\", \"again\", \"further\", \"then\", \"once\", \"here\", \"there\", \"when\", \"why\", \"how\", \"all\", \"any\", \"both\", \"each\", \"few\", \"more\", \"most\", \"other\", \"some\", \"such\", \"no\", \"nor\", \"not\", \"only\", \"own\", \"same\", \"so\", \"than\", \"too\", \"very\", \"s\", \"t\", \"don\", \"should\", \"now\"]\n",
    "stopwords_set = set(stopwords_list)"
   ]
  },
  {
   "cell_type": "markdown",
   "metadata": {},
   "source": [
    "Before removing the stopwords, we need to tokenize the sentences. Afterwards, we remove the stopwords."
   ]
  },
  {
   "cell_type": "code",
   "execution_count": 125,
   "metadata": {},
   "outputs": [],
   "source": [
    "def filter_stop_words(sentences):\n",
    "    filtered_sentences = []\n",
    "    detokenizer = Detok()\n",
    "    for sentence in sentences:\n",
    "        tokenized_sentence = word_tokenize(sentence)\n",
    "        filtered_sentence = [word for word in tokenized_sentence if word not in stopwords_set]\n",
    "        filtered_sentence = [] \n",
    "        for w in tokenized_sentence: \n",
    "            if w not in stopwords_set: \n",
    "                filtered_sentence.append(w)\n",
    "        filtered_sentences.append(filtered_sentence)\n",
    "    return filtered_sentences\n",
    "        \n",
    "filtered_sentences = filter_stop_words(sentences)"
   ]
  },
  {
   "cell_type": "markdown",
   "metadata": {},
   "source": [
    "The filtered results are as follows (vertically shortened for brevity).\n",
    "\n",
    "```python\n",
    "[['What', 'properties', 'cup'], ['Make', 'aware', 'mouse'], ['locate', 'body'], ['Is', 'book'], ['Discover', 'book'], ['Show', 'where', 'bottle'], ['Describe', 'mobile', 'phone'], ['Give', 'account', 'this', 'mobile', 'phone'], ['Help', 'find', 'keyboard'], ['I', 'can', '’', 'find', 'chair'], ['Where', 'I', 'keep', 'chair'], ['Highlight', 'book'], ['What', 'properties', 'monitor'], ['I', 'can', '’', 'find', 'keyboard'], ['Please', 'locate', 'chair'], ['find', 'bob', 'behind'], ['Where', 'I', 'keep', 'monitor'], ['Give', 'account', 'this', 'monitor'], ['look', 'bank'], ['I', 'can', '’', 'find', 'monitor'], ['I', 'need', 'find', 'book'], ['Show', 'where', 'keyboard'], ['please', 'locate', 'pin'], ['Explain', 'properties', 'this', 'book'], ['Discover', 'chair'], ['Explain', 'features', 'this', 'laptop'], ['can', 'hide', 'pain', 'finally'], ['Search', 'pen'], ['What', 'features', 'bottle'], ['Please', 'locate', 'pen'], ['Show', 'properties', 'cup'], ['Show', 'properties', 'this', 'chair'], ['Can', 'help', 'find', 'chair'], ['Explain', 'properties', 'this', 'cup'] \n",
    " \n",
    " ...\n",
    " \n",
    "['Is', 'chair'], [\"n't\", 'guns'], ['Spot', 'cup'], ['Point', 'mobile', 'phone'], ['I', 'can', '’', 'find', 'bottle'], ['Show', 'properties', 'this', 'mouse'], ['Show', 'properties', 'monitor'], ['Search', 'hand']]\n",
    "```"
   ]
  },
  {
   "cell_type": "markdown",
   "metadata": {},
   "source": [
    "Let us detokenize the output."
   ]
  },
  {
   "cell_type": "code",
   "execution_count": 126,
   "metadata": {},
   "outputs": [],
   "source": [
    "def detokenize(filtered_sentences):\n",
    "    detokenized_sentences = []\n",
    "    for sentence in filtered_sentences:\n",
    "        detokenized_sentences.append(TreebankWordDetokenizer().detokenize(sentence))\n",
    "    return detokenized_sentences    \n",
    "\n",
    "detokenized_sentences = detokenize(filtered_sentences)"
   ]
  },
  {
   "cell_type": "markdown",
   "metadata": {},
   "source": [
    "Now let us assign the detokenized sentences back to the `pandas` dataframe. "
   ]
  },
  {
   "cell_type": "code",
   "execution_count": 127,
   "metadata": {},
   "outputs": [
    {
     "name": "stdout",
     "output_type": "stream",
     "text": [
      "                                 sentence  operation  \\\n",
      "525     Provide the details of this mouse          2   \n",
      "550    What can you say about this laptop          2   \n",
      "414  What are the properties of the chair          2   \n",
      "653                       why didn't guns          3   \n",
      "691                                 gimme          3   \n",
      "\n",
      "                  filtered_sentence  \n",
      "525      Provide details this mouse  \n",
      "550  What can say about this laptop  \n",
      "414           What properties chair  \n",
      "653                        n't guns  \n",
      "691                             gim  \n"
     ]
    }
   ],
   "source": [
    "df['filtered_sentence'] = detokenized_sentences\n",
    "print(df.head())\n",
    "df.to_csv(r'data/detokenized_dataframe.csv',index = False)"
   ]
  },
  {
   "cell_type": "markdown",
   "metadata": {},
   "source": [
    "The field ```filtered_sentence``` is what we feed into the model as inputs. The labels remain the same."
   ]
  },
  {
   "cell_type": "markdown",
   "metadata": {},
   "source": [
    "## Building the model.\n",
    "\n",
    "Here, we will test out several models and test the accuracy parameters, in order to arrive at a final model. We will also use a grid-search methodology for obtaining the best hyperparameters for the chosen model.\n",
    "\n",
    "However, before this step, we need to understand the distribution of the dataset. For this, we will use `matplotlib` to plot the dataset w.r.t the labels. "
   ]
  },
  {
   "cell_type": "code",
   "execution_count": 128,
   "metadata": {},
   "outputs": [
    {
     "data": {
      "image/png": "[encoded data removed]",
      "text/plain": [
       "<Figure size 432x288 with 1 Axes>"
      ]
     },
     "metadata": {
      "needs_background": "light"
     },
     "output_type": "display_data"
    }
   ],
   "source": [
    "%matplotlib inline\n",
    "df['operation'].value_counts().plot(kind=\"bar\")\n",
    "\n",
    "def plot_history(history):\n",
    "    plt.title('Loss')\n",
    "    plt.plot(history.history['loss'], label='train')\n",
    "    plt.plot(history.history['val_loss'], label='test')\n",
    "    plt.legend()\n",
    "    plt.show()"
   ]
  },
  {
   "cell_type": "markdown",
   "metadata": {},
   "source": [
    "First, we test the Multinomial Naive Bayes model."
   ]
  },
  {
   "cell_type": "code",
   "execution_count": 129,
   "metadata": {},
   "outputs": [
    {
     "name": "stdout",
     "output_type": "stream",
     "text": [
      "Accuracy: 0.8932584269662921\n",
      "              precision    recall  f1-score   support\n",
      "\n",
      "           1       0.84      1.00      0.91        85\n",
      "           2       0.96      1.00      0.98        64\n",
      "           3       1.00      0.34      0.51        29\n",
      "\n",
      "    accuracy                           0.89       178\n",
      "   macro avg       0.93      0.78      0.80       178\n",
      "weighted avg       0.91      0.89      0.87       178\n",
      "\n"
     ]
    },
    {
     "data": {
      "text/plain": [
       "Pipeline(memory=None,\n",
       "         steps=[('vect',\n",
       "                 CountVectorizer(analyzer='word', binary=False,\n",
       "                                 decode_error='strict',\n",
       "                                 dtype=<class 'numpy.int64'>, encoding='utf-8',\n",
       "                                 input='content', lowercase=True, max_df=1.0,\n",
       "                                 max_features=None, min_df=1,\n",
       "                                 ngram_range=(1, 1), preprocessor=None,\n",
       "                                 stop_words=None, strip_accents=None,\n",
       "                                 token_pattern='(?u)\\\\b\\\\w\\\\w+\\\\b',\n",
       "                                 tokenizer=None, vocabulary=None)),\n",
       "                ('tfidf',\n",
       "                 TfidfTransformer(norm='l2', smooth_idf=True,\n",
       "                                  sublinear_tf=False, use_idf=True)),\n",
       "                ('clf',\n",
       "                 MultinomialNB(alpha=1.0, class_prior=None, fit_prior=True))],\n",
       "         verbose=False)"
      ]
     },
     "execution_count": 129,
     "metadata": {},
     "output_type": "execute_result"
    }
   ],
   "source": [
    "tags = ['1', '2', '3']\n",
    "\n",
    "sentences = df['filtered_sentence'].values\n",
    "y = df['operation']\n",
    "X_train, X_test, y_train, y_test = train_test_split(\n",
    "    sentences, y, test_size=0.25, random_state=1000)\n",
    "\n",
    "def nb_train(X_train, X_test, y_train, y_test):\n",
    "    nb = Pipeline([('vect', CountVectorizer()),\n",
    "               ('tfidf', TfidfTransformer()),\n",
    "               ('clf', MultinomialNB())])\n",
    "    nb.fit(X_train, y_train)\n",
    "    y_pred = nb.predict(X_test)\n",
    "    print('Accuracy: %s' % accuracy_score(y_pred, y_test))\n",
    "    print(classification_report(y_test, y_pred,target_names=tags))\n",
    "    return nb\n",
    "    \n",
    "nb_train(X_train, X_test, y_train, y_test)"
   ]
  },
  {
   "cell_type": "markdown",
   "metadata": {},
   "source": [
    "Next, we'll try a Linear SVM."
   ]
  },
  {
   "cell_type": "code",
   "execution_count": 130,
   "metadata": {},
   "outputs": [
    {
     "name": "stdout",
     "output_type": "stream",
     "text": [
      "Accuracy 0.9606741573033708\n",
      "              precision    recall  f1-score   support\n",
      "\n",
      "           1       0.96      1.00      0.98        85\n",
      "           2       0.96      1.00      0.98        64\n",
      "           3       1.00      0.76      0.86        29\n",
      "\n",
      "    accuracy                           0.96       178\n",
      "   macro avg       0.97      0.92      0.94       178\n",
      "weighted avg       0.96      0.96      0.96       178\n",
      "\n"
     ]
    },
    {
     "data": {
      "text/plain": [
       "Pipeline(memory=None,\n",
       "         steps=[('vect',\n",
       "                 CountVectorizer(analyzer='word', binary=False,\n",
       "                                 decode_error='strict',\n",
       "                                 dtype=<class 'numpy.int64'>, encoding='utf-8',\n",
       "                                 input='content', lowercase=True, max_df=1.0,\n",
       "                                 max_features=None, min_df=1,\n",
       "                                 ngram_range=(1, 1), preprocessor=None,\n",
       "                                 stop_words=None, strip_accents=None,\n",
       "                                 token_pattern='(?u)\\\\b\\\\w\\\\w+\\\\b',\n",
       "                                 tokenizer=None, vocabulary=Non...\n",
       "                ('clf',\n",
       "                 SGDClassifier(alpha=0.001, average=False, class_weight=None,\n",
       "                               early_stopping=False, epsilon=0.1, eta0=0.0,\n",
       "                               fit_intercept=True, l1_ratio=0.15,\n",
       "                               learning_rate='optimal', loss='hinge',\n",
       "                               max_iter=5, n_iter_no_change=5, n_jobs=None,\n",
       "                               penalty='l2', power_t=0.5, random_state=42,\n",
       "                               shuffle=True, tol=None, validation_fraction=0.1,\n",
       "                               verbose=0, warm_start=False))],\n",
       "         verbose=False)"
      ]
     },
     "execution_count": 130,
     "metadata": {},
     "output_type": "execute_result"
    }
   ],
   "source": [
    "def svc_train(X_train, X_test, y_train, y_test):\n",
    "    sgd = Pipeline([('vect', CountVectorizer()),\n",
    "                ('tfidf', TfidfTransformer()),\n",
    "                ('clf', SGDClassifier(loss='hinge', penalty='l2',alpha=1e-3, random_state=42, max_iter=5, tol=None)),\n",
    "               ])\n",
    "    sgd.fit(X_train, y_train)\n",
    "    y_pred = sgd.predict(X_test)\n",
    "    print('Accuracy %s' % accuracy_score(y_pred, y_test))\n",
    "    print(classification_report(y_test, y_pred,target_names=tags))\n",
    "    return sgd\n",
    "\n",
    "svc_train(X_train, X_test, y_train, y_test)"
   ]
  },
  {
   "cell_type": "markdown",
   "metadata": {},
   "source": [
    "Third, we'll try an LSTM. This is based on [Multi-Class Text Classification with LSTM](https://towardsdatascience.com/multi-class-text-classification-with-lstm-1590bee1bd17) by Susan Li. We'll visualize the LSTM using `plot_model` and `pydot`."
   ]
  },
  {
   "cell_type": "code",
   "execution_count": 131,
   "metadata": {},
   "outputs": [
    {
     "name": "stdout",
     "output_type": "stream",
     "text": [
      "Requirement already satisfied: pydot in /home/dasun/anaconda3/envs/dm/lib/python3.6/site-packages (1.4.1)\r\n",
      "Requirement already satisfied: pyparsing>=2.1.4 in /home/dasun/anaconda3/envs/dm/lib/python3.6/site-packages (from pydot) (2.4.0)\r\n"
     ]
    }
   ],
   "source": [
    "!pip install pydot"
   ]
  },
  {
   "cell_type": "code",
   "execution_count": 132,
   "metadata": {},
   "outputs": [
    {
     "name": "stdout",
     "output_type": "stream",
     "text": [
      "Found 164 unique tokens.\n",
      "Shape of data tensor: (709, 250)\n"
     ]
    },
    {
     "name": "stderr",
     "output_type": "stream",
     "text": [
      "/home/dasun/anaconda3/envs/dm/lib/python3.6/site-packages/tensorflow_core/python/framework/indexed_slices.py:424: UserWarning: Converting sparse IndexedSlices to a dense Tensor of unknown shape. This may consume a large amount of memory.\n",
      "  \"Converting sparse IndexedSlices to a dense Tensor of unknown shape. \"\n"
     ]
    },
    {
     "name": "stdout",
     "output_type": "stream",
     "text": [
      "Train on 624 samples, validate on 70 samples\n",
      "Epoch 1/150\n",
      "624/624 [==============================] - 3s 4ms/step - loss: 1.6549 - accuracy: 0.3846 - val_loss: 1.7274 - val_accuracy: 0.0000e+00\n",
      "Epoch 2/150\n",
      "624/624 [==============================] - 2s 3ms/step - loss: 1.5550 - accuracy: 0.3846 - val_loss: 1.7203 - val_accuracy: 0.0000e+00\n",
      "Epoch 3/150\n",
      "624/624 [==============================] - 2s 3ms/step - loss: 1.4676 - accuracy: 0.3846 - val_loss: 1.6346 - val_accuracy: 0.0000e+00\n",
      "Epoch 4/150\n",
      "624/624 [==============================] - 2s 3ms/step - loss: 1.3930 - accuracy: 0.3862 - val_loss: 1.4756 - val_accuracy: 0.0000e+00\n",
      "Epoch 5/150\n",
      "624/624 [==============================] - 2s 3ms/step - loss: 1.3205 - accuracy: 0.4359 - val_loss: 1.4353 - val_accuracy: 0.0000e+00\n",
      "Epoch 6/150\n",
      "624/624 [==============================] - 2s 3ms/step - loss: 1.2520 - accuracy: 0.4343 - val_loss: 1.4384 - val_accuracy: 0.0000e+00\n",
      "Epoch 7/150\n",
      "624/624 [==============================] - 2s 3ms/step - loss: 1.1805 - accuracy: 0.5897 - val_loss: 1.5234 - val_accuracy: 0.0000e+00\n",
      "Epoch 8/150\n",
      "624/624 [==============================] - 2s 3ms/step - loss: 1.1067 - accuracy: 0.5978 - val_loss: 1.4290 - val_accuracy: 0.0000e+00\n",
      "Epoch 9/150\n",
      "624/624 [==============================] - 2s 3ms/step - loss: 1.0190 - accuracy: 0.6923 - val_loss: 1.2952 - val_accuracy: 0.0000e+00\n",
      "Epoch 10/150\n",
      "624/624 [==============================] - 2s 3ms/step - loss: 0.9150 - accuracy: 0.6939 - val_loss: 1.3165 - val_accuracy: 0.0000e+00\n",
      "Epoch 11/150\n",
      "624/624 [==============================] - 2s 3ms/step - loss: 0.8166 - accuracy: 0.6923 - val_loss: 1.2133 - val_accuracy: 0.0143\n",
      "Epoch 12/150\n",
      "624/624 [==============================] - 2s 3ms/step - loss: 0.7327 - accuracy: 0.7548 - val_loss: 1.1789 - val_accuracy: 0.1143\n",
      "Epoch 13/150\n",
      "624/624 [==============================] - 2s 3ms/step - loss: 0.6575 - accuracy: 0.7756 - val_loss: 1.0681 - val_accuracy: 0.3143\n",
      "Epoch 14/150\n",
      "624/624 [==============================] - 2s 3ms/step - loss: 0.6119 - accuracy: 0.8381 - val_loss: 0.9809 - val_accuracy: 0.7571\n",
      "Epoch 15/150\n",
      "624/624 [==============================] - 2s 3ms/step - loss: 0.6686 - accuracy: 0.8333 - val_loss: 0.9001 - val_accuracy: 0.8143\n",
      "Epoch 16/150\n",
      "624/624 [==============================] - 2s 3ms/step - loss: 0.5395 - accuracy: 0.9183 - val_loss: 1.1002 - val_accuracy: 0.6571\n",
      "Epoch 17/150\n",
      "624/624 [==============================] - 2s 3ms/step - loss: 0.5022 - accuracy: 0.8862 - val_loss: 0.9871 - val_accuracy: 0.7000\n",
      "Epoch 18/150\n",
      "624/624 [==============================] - 2s 3ms/step - loss: 0.4759 - accuracy: 0.9119 - val_loss: 0.8352 - val_accuracy: 0.7571\n",
      "Epoch 19/150\n",
      "624/624 [==============================] - 2s 3ms/step - loss: 0.4509 - accuracy: 0.9295 - val_loss: 0.7538 - val_accuracy: 0.7571\n",
      "Epoch 20/150\n",
      "624/624 [==============================] - 2s 3ms/step - loss: 0.4103 - accuracy: 0.9279 - val_loss: 0.7744 - val_accuracy: 0.7571\n",
      "Epoch 21/150\n",
      "624/624 [==============================] - 2s 3ms/step - loss: 0.3825 - accuracy: 0.9439 - val_loss: 0.8024 - val_accuracy: 0.7571\n",
      "Epoch 22/150\n",
      "624/624 [==============================] - 2s 4ms/step - loss: 0.3541 - accuracy: 0.9359 - val_loss: 0.6470 - val_accuracy: 0.8000\n",
      "Epoch 23/150\n",
      "624/624 [==============================] - 2s 4ms/step - loss: 0.3400 - accuracy: 0.9439 - val_loss: 0.6466 - val_accuracy: 0.7571\n",
      "Epoch 24/150\n",
      "624/624 [==============================] - 3s 4ms/step - loss: 0.3185 - accuracy: 0.9343 - val_loss: 0.6394 - val_accuracy: 0.8143\n",
      "Epoch 25/150\n",
      "624/624 [==============================] - 2s 4ms/step - loss: 0.3011 - accuracy: 0.9535 - val_loss: 0.6008 - val_accuracy: 0.8286\n",
      "Epoch 26/150\n",
      "624/624 [==============================] - 2s 4ms/step - loss: 0.2929 - accuracy: 0.9471 - val_loss: 0.6863 - val_accuracy: 0.7571\n",
      "Epoch 27/150\n",
      "624/624 [==============================] - 2s 4ms/step - loss: 0.2761 - accuracy: 0.9439 - val_loss: 0.5468 - val_accuracy: 0.7857\n",
      "Epoch 28/150\n",
      "624/624 [==============================] - 2s 4ms/step - loss: 0.2674 - accuracy: 0.9551 - val_loss: 0.5508 - val_accuracy: 0.7857\n",
      "Epoch 29/150\n",
      "624/624 [==============================] - 2s 4ms/step - loss: 0.2508 - accuracy: 0.9535 - val_loss: 0.6224 - val_accuracy: 0.7857\n",
      "Epoch 30/150\n",
      "624/624 [==============================] - 2s 4ms/step - loss: 0.2457 - accuracy: 0.9487 - val_loss: 0.5364 - val_accuracy: 0.7857\n",
      "Epoch 31/150\n",
      "624/624 [==============================] - 3s 4ms/step - loss: 0.2400 - accuracy: 0.9535 - val_loss: 0.5334 - val_accuracy: 0.8000\n",
      "Epoch 32/150\n",
      "624/624 [==============================] - 2s 4ms/step - loss: 0.2331 - accuracy: 0.9583 - val_loss: 0.6058 - val_accuracy: 0.7857\n",
      "Epoch 33/150\n",
      "624/624 [==============================] - 2s 3ms/step - loss: 0.2194 - accuracy: 0.9583 - val_loss: 0.5050 - val_accuracy: 0.8000\n",
      "Epoch 34/150\n",
      "624/624 [==============================] - 2s 3ms/step - loss: 0.2154 - accuracy: 0.9615 - val_loss: 0.6494 - val_accuracy: 0.7571\n",
      "Epoch 35/150\n",
      "624/624 [==============================] - 2s 4ms/step - loss: 0.2075 - accuracy: 0.9647 - val_loss: 0.4869 - val_accuracy: 0.8000\n",
      "Epoch 36/150\n",
      "624/624 [==============================] - 2s 4ms/step - loss: 0.2124 - accuracy: 0.9535 - val_loss: 0.5471 - val_accuracy: 0.7857\n",
      "Epoch 37/150\n",
      "624/624 [==============================] - 3s 4ms/step - loss: 0.2008 - accuracy: 0.9599 - val_loss: 0.5924 - val_accuracy: 0.7857\n",
      "Epoch 38/150\n",
      "624/624 [==============================] - 2s 4ms/step - loss: 0.2053 - accuracy: 0.9551 - val_loss: 0.5572 - val_accuracy: 0.7857\n",
      "178/178 [==============================] - 0s 1ms/step\n",
      "Model: \"sequential_8\"\n",
      "_________________________________________________________________\n",
      "Layer (type)                 Output Shape              Param #   \n",
      "=================================================================\n",
      "embedding_8 (Embedding)      (None, 250, 32)           1600000   \n",
      "_________________________________________________________________\n",
      "spatial_dropout1d_8 (Spatial (None, 250, 32)           0         \n",
      "_________________________________________________________________\n",
      "lstm_8 (LSTM)                (None, 100)               53200     \n",
      "_________________________________________________________________\n",
      "dense_8 (Dense)              (None, 3)                 303       \n",
      "=================================================================\n",
      "Total params: 1,653,503\n",
      "Trainable params: 1,653,503\n",
      "Non-trainable params: 0\n",
      "_________________________________________________________________\n",
      "None\n",
      "Test set\n",
      "  Loss: 0.222\n",
      "  Accuracy: 0.933\n"
     ]
    }
   ],
   "source": [
    "# The maximum number of words to be used. (most frequent)\n",
    "MAX_NB_WORDS = 50000\n",
    "# Max number of words in each complaint.\n",
    "MAX_SEQUENCE_LENGTH = 250\n",
    "# This is fixed.\n",
    "EMBEDDING_DIM = 32\n",
    "\n",
    "def init_tokenizer():\n",
    "    tokenizer = Tokenizer(num_words=MAX_NB_WORDS, filters='!\"#$%&()*+,-./:;<=>?@[\\]^_`{|}~', lower=True)\n",
    "    tokenizer.fit_on_texts(df['filtered_sentence'].values)\n",
    "    word_index = tokenizer.word_index\n",
    "    print('Found %s unique tokens.' % len(word_index))\n",
    "    return tokenizer\n",
    "\n",
    "tokenizer = init_tokenizer()\n",
    "\n",
    "def lstm_train(df, tokenizer):\n",
    "\n",
    "    X = tokenizer.texts_to_sequences(df['filtered_sentence'].values)\n",
    "    X = pad_sequences(X, maxlen=MAX_SEQUENCE_LENGTH)\n",
    "    print('Shape of data tensor:', X.shape)\n",
    "    \n",
    "    Y = pd.get_dummies(df['operation']).values\n",
    "    \n",
    "    X_train, X_test, Y_train, Y_test = train_test_split(X,Y, test_size = 0.25, random_state = 42)\n",
    "    \n",
    "    # Oversampling the minority class\n",
    "    smote = SMOTE('minority')\n",
    "    X_train, Y_train = smote.fit_sample(X_train, Y_train)\n",
    "    \n",
    "#     cw = class_weight.compute_class_weight('balanced', np.unique(y_train), y_train)\n",
    "    \n",
    "    model = Sequential()\n",
    "    model.add(Embedding(MAX_NB_WORDS, EMBEDDING_DIM, input_length=X.shape[1]))\n",
    "    model.add(SpatialDropout1D(0.2))\n",
    "    model.add(LSTM(100, dropout=0.2, recurrent_dropout=0.2, kernel_regularizer=l2(0.01)))\n",
    "    model.add(Dense(3, activation='softmax'))\n",
    "    model.compile(loss='categorical_crossentropy', optimizer='adam', metrics=['accuracy'])\n",
    "\n",
    "    epochs = 150\n",
    "    batch_size = 100\n",
    "    \n",
    "#     history = model.fit(X_train, Y_train, \n",
    "#                         epochs=epochs, batch_size=batch_size, class_weight=cw, \n",
    "#                         validation_split=0.1,callbacks=[EarlyStopping(monitor='val_loss', patience=3, min_delta=0.0001)])\n",
    "    \n",
    "    \n",
    "    history = model.fit(X_train, Y_train, \n",
    "                        epochs=epochs, batch_size=batch_size,\n",
    "                        validation_split=0.1,callbacks=[EarlyStopping(monitor='val_loss', patience=3, min_delta=0.0001)])\n",
    "    \n",
    "    \n",
    "    \n",
    "    accr = model.evaluate(X_test,Y_test)\n",
    "    \n",
    "    y_pred = model.predict(X_test)\n",
    "    \n",
    "    print(model.summary())\n",
    "    print('Test set\\n  Loss: {:0.3f}\\n  Accuracy: {:0.3f}'.format(accr[0],accr[1]))\n",
    "    plot_model(model, to_file='model.png')\n",
    "    return model, history\n",
    "\n",
    "model, history = lstm_train(df, tokenizer)"
   ]
  },
  {
   "cell_type": "code",
   "execution_count": 133,
   "metadata": {},
   "outputs": [
    {
     "data": {
      "image/png": "[encoded data removed]",
      "text/plain": [
       "<Figure size 432x288 with 1 Axes>"
      ]
     },
     "metadata": {
      "needs_background": "light"
     },
     "output_type": "display_data"
    }
   ],
   "source": [
    "plot_history(history) "
   ]
  },
  {
   "cell_type": "markdown",
   "metadata": {},
   "source": [
    "Model architecture is shown below.\n",
    "\n",
    "<div align=\"center\"><img src=\"model.png\" /></div>\n",
    "\n",
    "## Test the Models\n",
    "\n",
    "Now, let us test the models. We start with the LSTM.\n",
    "\n",
    "### Testing LSTM "
   ]
  },
  {
   "cell_type": "code",
   "execution_count": 134,
   "metadata": {},
   "outputs": [
    {
     "name": "stdout",
     "output_type": "stream",
     "text": [
      "Predicted vector:  [[0.79105943 0.00257285 0.20636767]]  Predicted Class:  Locate\n"
     ]
    }
   ],
   "source": [
    "new_command = ['Track the pencil']\n",
    "filtered_commands = filter_stop_words(new_command)\n",
    "seq = tokenizer.texts_to_sequences(filtered_commands)\n",
    "padded = pad_sequences(seq, maxlen=MAX_SEQUENCE_LENGTH)\n",
    "pred = model.predict(padded)\n",
    "\n",
    "labels = ['Locate', 'Describe', 'No_Op']\n",
    "print(\"Predicted vector: \", pred, \" Predicted Class: \" ,labels[np.argmax(pred)])"
   ]
  },
  {
   "cell_type": "code",
   "execution_count": 137,
   "metadata": {},
   "outputs": [],
   "source": [
    "df.to_csv(r'data/dataset.txt', header=None, index=None, sep=',', mode='a')\n",
    "model.save('lstm.h5')"
   ]
  },
  {
   "cell_type": "code",
   "execution_count": null,
   "metadata": {},
   "outputs": [],
   "source": [
    "def load_model(model_path ):\n",
    "    model = model.load(model_path)"
   ]
  }
 ],
 "metadata": {
  "kernelspec": {
   "display_name": "Python 3",
   "language": "python",
   "name": "python3"
  },
  "language_info": {
   "codemirror_mode": {
    "name": "ipython",
    "version": 3
   },
   "file_extension": ".py",
   "mimetype": "text/x-python",
   "name": "python",
   "nbconvert_exporter": "python",
   "pygments_lexer": "ipython3",
   "version": "3.6.8"
  },
  "pycharm": {
   "stem_cell": {
    "cell_type": "raw",
    "metadata": {
     "collapsed": false
    },
    "source": []
   }
  }
 },
 "nbformat": 4,
 "nbformat_minor": 2
}
